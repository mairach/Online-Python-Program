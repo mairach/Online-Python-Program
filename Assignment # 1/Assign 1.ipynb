{
 "cells": [
  {
   "cell_type": "code",
   "execution_count": 1,
   "id": "213a0a11",
   "metadata": {},
   "outputs": [
    {
     "name": "stdout",
     "output_type": "stream",
     "text": [
      "\tTwinkle, twinkle, little star,\n",
      "\t\tHow I wonder what you are!\n",
      "\t\t\tUp above the world so high\n",
      "\t\t\tLike a diamond in the sky.\n",
      "\tTwinkle, twinkle, little star,\n",
      "\t\tHow I wonder what you are\n"
     ]
    }
   ],
   "source": [
    "#Question 1\n",
    "#write a python program to print the following string in a specific format.\n",
    "\n",
    "print(\"\\tTwinkle, twinkle, little star,\\n\\t\\tHow I wonder what you are!\\n\\t\\t\\tUp above the world so high\\n\\t\\t\\tLike a diamond in the sky.\");\n",
    "print(\"\\tTwinkle, twinkle, little star,\\n\\t\\tHow I wonder what you are\");"
   ]
  },
  {
   "cell_type": "code",
   "execution_count": 12,
   "id": "f4584bcd",
   "metadata": {},
   "outputs": [
    {
     "name": "stdout",
     "output_type": "stream",
     "text": [
      "Python version I am using:\n",
      "3.8.8 (default, Apr 13 2021, 15:08:03) [MSC v.1916 64 bit (AMD64)]\n"
     ]
    }
   ],
   "source": [
    "#Question 2\n",
    "#Write a program to get the Python version you are using.\n",
    "\n",
    "import sys\n",
    "print(\"Python version I am using:\");\n",
    "print(sys.version);"
   ]
  },
  {
   "cell_type": "code",
   "execution_count": 9,
   "id": "05c4e8d7",
   "metadata": {},
   "outputs": [
    {
     "name": "stdout",
     "output_type": "stream",
     "text": [
      "Current date and time at Sialkot,Punjab is: \n",
      "2021-12-30 19:17:00.646193\n"
     ]
    }
   ],
   "source": [
    "#Question 3\n",
    "#Write a Python program to display the current date and time.\n",
    "\n",
    "import datetime\n",
    "current=datetime.datetime.now();\n",
    "print(\"Current date and time at Sialkot,Punjab is: \");\n",
    "print(current);"
   ]
  },
  {
   "cell_type": "code",
   "execution_count": 1,
   "id": "7b3cd562",
   "metadata": {},
   "outputs": [
    {
     "name": "stdout",
     "output_type": "stream",
     "text": [
      "Enter radius of circle: 2\n",
      "Area of circle= 12.56\n"
     ]
    }
   ],
   "source": [
    "#Question 4\n",
    "#Write a Pyhton program which accepts the radius of a circle from the user and compute the area.\n",
    "\n",
    "r=float(input(\"Enter radius of circle: \"));\n",
    "area=3.14*r*r;\n",
    "print(\"Area of circle= %.2f\" %area);"
   ]
  },
  {
   "cell_type": "code",
   "execution_count": 11,
   "id": "5232318b",
   "metadata": {},
   "outputs": [
    {
     "name": "stdout",
     "output_type": "stream",
     "text": [
      "Enter your first name: maira\n",
      "Enter your last name: ashfaq\n",
      "Your name in reverse order:qafhsa ariam\n"
     ]
    }
   ],
   "source": [
    "#Question 5\n",
    "#Write a Python program which accepts the user's first and last name and print them in reverse order with a space between them.\n",
    "\n",
    "def reverse(string):\n",
    "   string= \"\".join(reversed(string))\n",
    "   return string\n",
    "\n",
    "fname=input(\"Enter your first name: \");\n",
    "lname=input(\"Enter your last name: \");\n",
    "\n",
    "print(\"Your name in reverse order:\",end=\"\");\n",
    "print(reverse(lname),end=\"\");\n",
    "print(\" \",end=\"\");\n",
    "print(reverse(fname));\n"
   ]
  },
  {
   "cell_type": "code",
   "execution_count": 8,
   "id": "af8eb701",
   "metadata": {},
   "outputs": [
    {
     "name": "stdout",
     "output_type": "stream",
     "text": [
      "Enter first number: 4\n",
      "Enter second number: 5\n",
      "Addition of these two numbers is:  9\n"
     ]
    }
   ],
   "source": [
    "#Question 6\n",
    "#Write a Python program which takes two inputs from user and print their addition.\n",
    "\n",
    "a=int(input(\"Enter first number: \"));\n",
    "b=int(input(\"Enter second number: \"));\n",
    "c = a + b;\n",
    "print(\"Addition of these two numbers is: \", c);"
   ]
  },
  {
   "cell_type": "code",
   "execution_count": null,
   "id": "69f5b160",
   "metadata": {},
   "outputs": [],
   "source": []
  }
 ],
 "metadata": {
  "kernelspec": {
   "display_name": "Python 3",
   "language": "python",
   "name": "python3"
  },
  "language_info": {
   "codemirror_mode": {
    "name": "ipython",
    "version": 3
   },
   "file_extension": ".py",
   "mimetype": "text/x-python",
   "name": "python",
   "nbconvert_exporter": "python",
   "pygments_lexer": "ipython3",
   "version": "3.8.8"
  }
 },
 "nbformat": 4,
 "nbformat_minor": 5
}
